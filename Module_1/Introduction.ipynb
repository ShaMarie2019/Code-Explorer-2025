{
 "cells": [
  {
   "cell_type": "markdown",
   "metadata": {},
   "source": [
    "# Day 1: Python Basics\n",
    "\n",
    "In this module we will go over:\n",
    "- What are coding languages?\n",
    "- What an executable file is \n",
    "- How to use Visual Studio Code\n",
    "\n",
    "\n",
    "Python Basics:\n",
    "- Basic Python Types\n",
    "- What is a variable?\n",
    "- What is a function?\n",
    "- Common errors\n",
    "\n",
    "\n",
    "Terminal Basics:\n",
    "- What is a directory?\n",
    "- How to change directories?\n",
    "- How to run your code in terminal\n"
   ]
  },
  {
   "cell_type": "code",
   "execution_count": null,
   "metadata": {},
   "outputs": [],
   "source": [
    "# To comment a line of you can use a hashtag\n",
    "\n",
    "'''\n",
    "\n",
    "If you would like to comment multiple line of something then you can use a docstring.\n",
    "This is where you would put three quotation marks next to each other at the start and end of your comment.\n",
    "\n",
    "You can see that when you run this cell nothing will happen\n",
    "\n",
    "'''\n",
    "\n",
    "\n",
    "# If you would like to comment out multiple lines \n",
    "# or uncomment multiple lines you can do \n",
    "# CMD /\n",
    "# This will comment out all these lines and you can run this cell\n"
   ]
  },
  {
   "cell_type": "markdown",
   "metadata": {},
   "source": [
    "### Types in Python\n",
    "Numeric:\n",
    "- int = 1 # integer numbers (0,1, -5)\n",
    "- float = 3.14 #floating point numbers (-0.5, 2.0)\n",
    "\n",
    "Sequence Types:\n",
    "- str = \"Hello\" #represents strings, which are sequences of characters\n",
    "- list = [1,2,3,\"four\"] # represents ordered, mutable sequences of items, which can be mixed types \n",
    "- tuple = (1,2, \"banana\") # represent ordered, immutable sequences of items \n",
    "\n",
    "Set Types:\n",
    "- set = {1,2,3,4} # represents unordered collections of unique items \n",
    "\n",
    "Mapping Types:\n",
    "- dict = {\"course\": \"Code Explorer, \"Stundent Count\": 25} #represents dictionaries which are key value pairs\n",
    "\n",
    "Boolean Type:\n",
    "- bool = True #represents boolean values either True or False\n"
   ]
  },
  {
   "cell_type": "markdown",
   "metadata": {},
   "source": [
    "### Functions \n",
    "\n",
    "A function is a block of reusable code designedf to perform specific task. They can help to organize code and make it more redable avoiding repetition.\n",
    "\n",
    "Given an input it will do something to then produce an output.\n",
    "\n",
    "Built-in Functions: \n",
    "\n",
    "\n"
   ]
  },
  {
   "cell_type": "code",
   "execution_count": null,
   "metadata": {},
   "outputs": [],
   "source": [
    "print()\n",
    "\n",
    "int()\n",
    "\n",
    "str()\n",
    "\n",
    "list()\n",
    "\n",
    "float()\n",
    "\n",
    "bool()\n",
    "\n",
    "type()"
   ]
  },
  {
   "cell_type": "markdown",
   "metadata": {},
   "source": [
    "### Variables in Python\n",
    "\n",
    "**Variable** = \"A variable is a named storage location to hold a value\"\n",
    "\n",
    "Valid Variable Names \n",
    "\n",
    "- my_variable = 10 \n",
    "- _my_variable = \"hello\"\n",
    "- myvariable = True \n",
    "- variable123 = [1,2,3]\n",
    "\n",
    "Invalid Variable names\n",
    "\n",
    "- 123variable = 'can't start with a number \n",
    "- my-variable = \"cannot contain hypens\"\n",
    "- my variable = \"cannot contain spaces\"\n",
    "- if = \"cannot be a reservd keyword\"\n",
    "\n"
   ]
  },
  {
   "cell_type": "code",
   "execution_count": 1,
   "metadata": {},
   "outputs": [
    {
     "name": "stdout",
     "output_type": "stream",
     "text": [
      "Hello, World! 2 2.5\n"
     ]
    }
   ],
   "source": [
    "# Create a variable for the string Hello, World! under this comment\n",
    "\n",
    "var = \"Hello, World!\"\n",
    "\n",
    "# Create a variable for an integer, and float under this comment\n",
    "\n",
    "num1 = 2\n",
    "num2 = 2.5\n",
    "\n",
    "# Use the print function to print your variables\n",
    "\n",
    "print(var, num1, num2)"
   ]
  },
  {
   "cell_type": "markdown",
   "metadata": {},
   "source": [
    "### Common Types of Errors in Python\n",
    "\n",
    "\n",
    "Type Error\n",
    "\n",
    "\n",
    "Syntax Error \n",
    "\n",
    "\n",
    "Name Error"
   ]
  },
  {
   "cell_type": "code",
   "execution_count": null,
   "metadata": {},
   "outputs": [],
   "source": [
    "# Create a type error \n"
   ]
  },
  {
   "cell_type": "code",
   "execution_count": null,
   "metadata": {},
   "outputs": [],
   "source": [
    "# Create a syntax error "
   ]
  },
  {
   "cell_type": "code",
   "execution_count": null,
   "metadata": {},
   "outputs": [],
   "source": [
    "# Create a name error"
   ]
  }
 ],
 "metadata": {
  "kernelspec": {
   "display_name": "Python 3",
   "language": "python",
   "name": "python3"
  },
  "language_info": {
   "codemirror_mode": {
    "name": "ipython",
    "version": 3
   },
   "file_extension": ".py",
   "mimetype": "text/x-python",
   "name": "python",
   "nbconvert_exporter": "python",
   "pygments_lexer": "ipython3",
   "version": "3.12.0"
  }
 },
 "nbformat": 4,
 "nbformat_minor": 2
}
